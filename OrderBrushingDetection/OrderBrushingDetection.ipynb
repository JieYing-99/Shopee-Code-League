{
 "cells": [
  {
   "cell_type": "code",
   "execution_count": 14,
   "metadata": {},
   "outputs": [],
   "source": [
    "# import libraries\n",
    "import pandas as pd\n",
    "from datetime import timedelta"
   ]
  },
  {
   "cell_type": "code",
   "execution_count": 15,
   "metadata": {},
   "outputs": [
    {
     "data": {
      "text/html": [
       "<div>\n",
       "<style scoped>\n",
       "    .dataframe tbody tr th:only-of-type {\n",
       "        vertical-align: middle;\n",
       "    }\n",
       "\n",
       "    .dataframe tbody tr th {\n",
       "        vertical-align: top;\n",
       "    }\n",
       "\n",
       "    .dataframe thead th {\n",
       "        text-align: right;\n",
       "    }\n",
       "</style>\n",
       "<table border=\"1\" class=\"dataframe\">\n",
       "  <thead>\n",
       "    <tr style=\"text-align: right;\">\n",
       "      <th></th>\n",
       "      <th>orderid</th>\n",
       "      <th>shopid</th>\n",
       "      <th>userid</th>\n",
       "      <th>event_time</th>\n",
       "    </tr>\n",
       "  </thead>\n",
       "  <tbody>\n",
       "    <tr>\n",
       "      <th>0</th>\n",
       "      <td>31076582227611</td>\n",
       "      <td>93950878</td>\n",
       "      <td>30530270</td>\n",
       "      <td>2019-12-27 00:23:03</td>\n",
       "    </tr>\n",
       "    <tr>\n",
       "      <th>1</th>\n",
       "      <td>31118059853484</td>\n",
       "      <td>156423439</td>\n",
       "      <td>46057927</td>\n",
       "      <td>2019-12-27 11:54:20</td>\n",
       "    </tr>\n",
       "    <tr>\n",
       "      <th>2</th>\n",
       "      <td>31123355095755</td>\n",
       "      <td>173699291</td>\n",
       "      <td>67341739</td>\n",
       "      <td>2019-12-27 13:22:35</td>\n",
       "    </tr>\n",
       "    <tr>\n",
       "      <th>3</th>\n",
       "      <td>31122059872723</td>\n",
       "      <td>63674025</td>\n",
       "      <td>149380322</td>\n",
       "      <td>2019-12-27 13:01:00</td>\n",
       "    </tr>\n",
       "    <tr>\n",
       "      <th>4</th>\n",
       "      <td>31117075665123</td>\n",
       "      <td>127249066</td>\n",
       "      <td>149493217</td>\n",
       "      <td>2019-12-27 11:37:55</td>\n",
       "    </tr>\n",
       "  </tbody>\n",
       "</table>\n",
       "</div>"
      ],
      "text/plain": [
       "          orderid     shopid     userid           event_time\n",
       "0  31076582227611   93950878   30530270  2019-12-27 00:23:03\n",
       "1  31118059853484  156423439   46057927  2019-12-27 11:54:20\n",
       "2  31123355095755  173699291   67341739  2019-12-27 13:22:35\n",
       "3  31122059872723   63674025  149380322  2019-12-27 13:01:00\n",
       "4  31117075665123  127249066  149493217  2019-12-27 11:37:55"
      ]
     },
     "execution_count": 15,
     "metadata": {},
     "output_type": "execute_result"
    }
   ],
   "source": [
    "# load data into dataframe\n",
    "df = pd.read_csv('data/order_brush_order.csv')\n",
    "df.head()"
   ]
  },
  {
   "cell_type": "code",
   "execution_count": 16,
   "metadata": {},
   "outputs": [],
   "source": [
    "# convert type of event_time to datetime\n",
    "df['event_time'] = pd.to_datetime(df['event_time'])"
   ]
  },
  {
   "cell_type": "code",
   "execution_count": 17,
   "metadata": {},
   "outputs": [
    {
     "name": "stderr",
     "output_type": "stream",
     "text": [
      "<ipython-input-17-862b9fdd5d6c>:2: FutureWarning: Indexing with multiple keys (implicitly converted to a tuple of keys) will be deprecated, use a list instead.\n",
      "  grouped_df = df.groupby('shopid')['event_time', 'orderid', 'userid'].apply(lambda x: x.to_dict(orient='records')).reset_index(name='details')\n"
     ]
    }
   ],
   "source": [
    "# group by shopid and convert event_time, orderid and userid into list of dictionaries\n",
    "grouped_df = df.groupby('shopid')['event_time', 'orderid', 'userid'].apply(lambda x: x.to_dict(orient='records')).reset_index(name='details')"
   ]
  },
  {
   "cell_type": "code",
   "execution_count": 18,
   "metadata": {},
   "outputs": [],
   "source": [
    "# convert to list of dictionaries for better performance\n",
    "data_list = grouped_df.to_dict(orient='records')"
   ]
  },
  {
   "cell_type": "code",
   "execution_count": 19,
   "metadata": {},
   "outputs": [],
   "source": [
    "# iterate through each shop\n",
    "for shop_dict in data_list:\n",
    "\n",
    "    # sort details' list of dictionaries by event_time\n",
    "    shop_dict['details'] = sorted(shop_dict['details'], key=lambda item: item['event_time'])\n",
    "\n",
    "    # group orders into all possible 1-hour intervals\n",
    "    shop_dict['interval_orders'] = []\n",
    "    for detail_dict in shop_dict['details']:\n",
    "        shop_dict['interval_orders'].append({\n",
    "            'start': detail_dict['event_time'],\n",
    "            'end': detail_dict['event_time'] + timedelta(hours=1),\n",
    "            'orders': []\n",
    "        })\n",
    "        for interval_order_dict in shop_dict['interval_orders']:\n",
    "            if detail_dict['event_time'] <= interval_order_dict['end']:\n",
    "                interval_order_dict['orders'].append(detail_dict)\n",
    "    \n",
    "    shop_dict['sus_userid'] = []\n",
    "\n",
    "    # iterate through each interval\n",
    "    for interval_order_dict in shop_dict['interval_orders']:\n",
    "\n",
    "        # sum number of orders and number of unique users for each interval, then calculate concentrate rate\n",
    "        interval_order_dict['order_count'] = len(interval_order_dict['orders'])\n",
    "        interval_order_dict['unique_user_count'] = len(set([item['userid'] for item in interval_order_dict['orders']]))\n",
    "        interval_order_dict['concentrate_rate'] = interval_order_dict['order_count'] / interval_order_dict['unique_user_count']\n",
    "\n",
    "        # check whether interval is suspicious and get suspicious userids\n",
    "        if interval_order_dict['concentrate_rate'] >= 3:\n",
    "            orders_df = pd.DataFrame(interval_order_dict['orders'])\n",
    "            orders_grouped = orders_df.groupby('userid')['orderid'].aggregate('count').to_dict()\n",
    "            max_order_count = orders_grouped[max(orders_grouped, key=orders_grouped.get)]\n",
    "            shop_dict['sus_userid'] += [userid for userid, order_count in orders_grouped.items() if order_count == max_order_count]\n",
    "\n",
    "    # remove duplicated suspicious userids\n",
    "    shop_dict['sus_userid'] = list(set(shop_dict['sus_userid']))\n"
   ]
  },
  {
   "cell_type": "code",
   "execution_count": 20,
   "metadata": {},
   "outputs": [],
   "source": [
    "# format result\n",
    "result_df = pd.DataFrame(columns=['shopid', 'userid'])\n",
    "for shop_dict in data_list:\n",
    "    if shop_dict['sus_userid']:\n",
    "        sus_userid = '&'.join([str(userid) for userid in sorted(shop_dict['sus_userid'])])\n",
    "    else:\n",
    "        sus_userid = '0'\n",
    "    result_df = result_df.append({'shopid': shop_dict['shopid'], 'userid': sus_userid}, ignore_index=True)"
   ]
  },
  {
   "cell_type": "code",
   "execution_count": 21,
   "metadata": {},
   "outputs": [
    {
     "name": "stdout",
     "output_type": "stream",
     "text": [
      "18770\n"
     ]
    }
   ],
   "source": [
    "# save result\n",
    "result_df.to_csv('output/result.csv', index=False)\n",
    "print(len(result_df))\n",
    "# 70.3s (1m 10.3s)"
   ]
  }
 ],
 "metadata": {
  "interpreter": {
   "hash": "e8db7f8cf129b293d5c2821b5bd9ba8a119b355e49175902a579580b77e34f08"
  },
  "kernelspec": {
   "display_name": "Python 3.8.5 ('bokeh2')",
   "language": "python",
   "name": "python3"
  },
  "language_info": {
   "codemirror_mode": {
    "name": "ipython",
    "version": 3
   },
   "file_extension": ".py",
   "mimetype": "text/x-python",
   "name": "python",
   "nbconvert_exporter": "python",
   "pygments_lexer": "ipython3",
   "version": "3.8.5"
  },
  "orig_nbformat": 4
 },
 "nbformat": 4,
 "nbformat_minor": 2
}
