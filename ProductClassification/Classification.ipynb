{
 "cells": [
  {
   "cell_type": "code",
   "execution_count": 1,
   "metadata": {},
   "outputs": [],
   "source": [
    "import pandas as pd\n",
    "import numpy as np\n",
    "from tensorflow.keras.applications.efficientnet import preprocess_input\n",
    "from tensorflow.keras.models import load_model\n",
    "from keras.preprocessing.image import ImageDataGenerator\n",
    "import warnings\n",
    "warnings.filterwarnings('ignore')"
   ]
  },
  {
   "cell_type": "code",
   "execution_count": 2,
   "metadata": {},
   "outputs": [],
   "source": [
    "IMAGE_SIZE = (380, 380)\n",
    "INPUT_SHAPE = (380, 380, 3)"
   ]
  },
  {
   "cell_type": "code",
   "execution_count": 3,
   "metadata": {},
   "outputs": [],
   "source": [
    "test_df = pd.read_csv('data/test.csv')\n",
    "test_df['category'] = test_df['category'].astype(str)"
   ]
  },
  {
   "cell_type": "code",
   "execution_count": 5,
   "metadata": {},
   "outputs": [],
   "source": [
    "model = load_model('output/models/efficientnetb4.h5')"
   ]
  },
  {
   "cell_type": "code",
   "execution_count": 6,
   "metadata": {},
   "outputs": [
    {
     "name": "stdout",
     "output_type": "stream",
     "text": [
      "Found 12186 validated image filenames belonging to 1 classes.\n"
     ]
    }
   ],
   "source": [
    "image_datagen = ImageDataGenerator(preprocessing_function=preprocess_input, validation_split=0.2)\n",
    "\n",
    "test_generator=image_datagen.flow_from_dataframe(\n",
    "    dataframe=test_df, \n",
    "    x_col='filename',\n",
    "    y_col='category',\n",
    "    directory='data/test',\n",
    "    class_mode='categorical', \n",
    "    color_mode='rgb',\n",
    "    target_size=IMAGE_SIZE, \n",
    "    batch_size=1,\n",
    "    shuffle=False,\n",
    "    seed=42\n",
    ")"
   ]
  },
  {
   "cell_type": "code",
   "execution_count": 7,
   "metadata": {},
   "outputs": [
    {
     "name": "stdout",
     "output_type": "stream",
     "text": [
      "12186/12186 [==============================] - 7061s 579ms/step\n"
     ]
    }
   ],
   "source": [
    "# reset the generator to start from the first batch to ensure the predictions correspond with the file names\n",
    "test_generator.reset()\n",
    "\n",
    "# predict classes\n",
    "predictions = model.predict_generator(test_generator, steps=test_generator.n, verbose=1)"
   ]
  },
  {
   "cell_type": "code",
   "execution_count": 8,
   "metadata": {},
   "outputs": [],
   "source": [
    "# format result\n",
    "predicted_class_indices = np.argmax(predictions, axis=1)\n",
    "indices_classes_df = pd.read_csv('output/indices_classes_mapping.csv')\n",
    "indices_to_classes = dict(zip(indices_classes_df.iloc[:,0], indices_classes_df.iloc[:,1]))\n",
    "predicted_classes = np.vectorize(indices_to_classes.get)(predicted_class_indices)\n",
    "filenames_to_classes = list(zip(test_generator.filenames, predicted_classes))\n",
    "\n",
    "# save result\n",
    "result = pd.DataFrame(filenames_to_classes, columns=['filename', 'category'])\n",
    "result.to_csv('output/result.csv', index=False)"
   ]
  }
 ],
 "metadata": {
  "kernelspec": {
   "display_name": "Python 3 (ipykernel)",
   "language": "python",
   "name": "python3"
  },
  "language_info": {
   "codemirror_mode": {
    "name": "ipython",
    "version": 3
   },
   "file_extension": ".py",
   "mimetype": "text/x-python",
   "name": "python",
   "nbconvert_exporter": "python",
   "pygments_lexer": "ipython3",
   "version": "3.8.5"
  },
  "vscode": {
   "interpreter": {
    "hash": "276b36899633141f9bb9c26855a2fb39641ac12e40325f80aabae73e8e8011d8"
   }
  }
 },
 "nbformat": 4,
 "nbformat_minor": 2
}
